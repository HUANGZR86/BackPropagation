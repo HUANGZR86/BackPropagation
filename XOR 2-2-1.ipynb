{
 "cells": [
  {
   "cell_type": "code",
   "execution_count": 1,
   "metadata": {},
   "outputs": [
    {
     "name": "stdout",
     "output_type": "stream",
     "text": [
      "After training: \n",
      "[[0.01499808]\n",
      " [0.96231763]\n",
      " [0.96231765]\n",
      " [0.05049853]]\n"
     ]
    }
   ],
   "source": [
    "import numpy as np\n",
    "import random\n",
    "#input_nodes=2, output_nodes=1, hidden_nodes=2\n",
    "\n",
    "learning_rate=0.5\n",
    "iteration=60000\n",
    "#XOR\n",
    "x=np.array([[0,0] , [0,1] , [1,0] , [1,1]]) \n",
    "T=np.array( [ [0] , [1] , [1] , [0] ] )\n",
    "#AND\n",
    "a=np.array([[0,0] , [0,1] , [1,0] , [1,1]]) \n",
    "b=np.array( [ [0] , [0] , [0] , [1] ] )\n",
    "\n",
    "#Activation function f(x)= 1/(1+e(-x)), f'(x)=f(x)(1-f(x))\n",
    "def sigmoid(x): \n",
    "    return 1/(1+np.exp(-x))\n",
    "\n",
    "def sigmoid_der(x):\n",
    "    return sigmoid(x)*(1.0-sigmoid(x))\n",
    "\n",
    "#initialize weights for layers: wji(i,j) wk=[[w11,w21], [w12,w22]], wi=[[w11], [w12]]\n",
    "wk=np.random.random((2,2)) \n",
    "wi=np.random.random((2,1))\n",
    "\n",
    "for i in range(iteration):\n",
    "#Forward pass:\n",
    "    z1=np.dot(x, wk) # 4*2 matrix, z1=x@ wk, each row stands for a set of inputs to the hidden layer\n",
    "    h=sigmoid(z1) # 4*2 matrix, h=f(z1)\n",
    "    z2=np.dot(h, wi) # 4*1 matrix, z2=h@ wi, each row  stands for a input to the output layer\n",
    "    o=sigmoid(z2) # 4*1 matrix\n",
    "\n",
    "#backpropagation:\n",
    "    #Error calculation:\n",
    "    delta2_err=T-o #4*1 matrix, each row stands for a error in an output,\n",
    "    delta2 = delta2_err*sigmoid_der(z2) # 4*1 matrix, each row stands for a delta2, delta=(t-o)f'(x)\n",
    "    \n",
    "    delta1_err= delta2.dot(wi.T) #4*2 matrix, each row stands for how much weights from hidden layer contributed to the output layer error\n",
    "    delta1= delta1_err*sigmoid_der(z1) #4*2 matrix, each row stands for delta1s, delta1=delta2*f'(x)*wk\n",
    "\n",
    "    #weight updating:\n",
    "    wi+=learning_rate*h.T.dot(delta2) #2*1 matrix, wi=n*delta2*h\n",
    "    wk+=learning_rate*x.T.dot(delta1) #2*2 matrix, wk=n*delta1*x\n",
    "    \n",
    "print(\"After training: \")\n",
    "print(o)"
   ]
  },
  {
   "cell_type": "code",
   "execution_count": null,
   "metadata": {},
   "outputs": [],
   "source": []
  }
 ],
 "metadata": {
  "kernelspec": {
   "display_name": "Python 3",
   "language": "python",
   "name": "python3"
  },
  "language_info": {
   "codemirror_mode": {
    "name": "ipython",
    "version": 3
   },
   "file_extension": ".py",
   "mimetype": "text/x-python",
   "name": "python",
   "nbconvert_exporter": "python",
   "pygments_lexer": "ipython3",
   "version": "3.7.0"
  }
 },
 "nbformat": 4,
 "nbformat_minor": 2
}
