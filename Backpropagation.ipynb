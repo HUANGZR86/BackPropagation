{
 "cells": [
  {
   "cell_type": "code",
   "execution_count": 3,
   "metadata": {},
   "outputs": [
    {
     "name": "stdout",
     "output_type": "stream",
     "text": [
      "[[0.01780452]\n",
      " [0.98462333]\n",
      " [0.98459922]\n",
      " [0.00386332]]\n"
     ]
    }
   ],
   "source": [
    "import numpy as np\n",
    "import random\n",
    "#input_nodes=k,hidden_nodes=i, output_nodes=j, \n",
    "learning_rate=0.5\n",
    "iteration=60000\n",
    "k=2\n",
    "i=3\n",
    "j=1\n",
    "#NAND:\n",
    "g=np.array([[0,0] , [0,1] , [1,0] , [1,1]]) \n",
    "h=np.array( [ [1] , [1] , [1] , [0] ] )\n",
    "#AND\n",
    "a=np.array([[0,0] , [0,1] , [1,0] , [1,1]])\n",
    "b=np.array( [ [0] , [0] , [0] , [1] ] )    \n",
    "#XOR:\n",
    "c=np.array([[0,0] , [0,1] , [1,0] , [1,1]]) \n",
    "d=np.array( [ [0] , [1] , [1] , [0] ] )\n",
    "#OR:\n",
    "e=np.array([[0,0] , [0,1] , [1,0] , [1,1]]) \n",
    "f=np.array( [ [0] , [1] , [1] , [1] ] )\n",
    "\n",
    "#Activation function f(x)= 1/(1+e(-x)), f'(x)=f(x)(1-f(x))\n",
    "def sigmoid(x): \n",
    "    return 1/(1+np.exp(-x))\n",
    "def sigmoid_der(x):\n",
    "     return x*(1.0-x)\n",
    "    \n",
    "class Neural_Network:\n",
    "    def __init__(self, x, t):\n",
    "    #layers \n",
    "        self.x=x # n*k array\n",
    "        self.t=t # n*j array\n",
    "    #weights: wji(i,j) \n",
    "        self.wk=np.random.random((k, i)) # k*i array\n",
    "        self.wi=np.random.random((i, j)) # i*j array\n",
    "        self.bi=np.random.random((2,1))\n",
    "    \n",
    "    #Forward pass: returns a set of outputs\n",
    "    def Output(self, x):\n",
    "        h=sigmoid(np.dot(self.x, self.wk)) # n*i array\n",
    "        o=sigmoid(np.dot(h, self.wi)) # n*j array\n",
    "        return o\n",
    "    \n",
    "    #backpropagation:\n",
    "    def train(self, x, t):\n",
    "        for i in range(iteration):\n",
    "            h=sigmoid(np.dot(self.x, self.wk)+self.bi[0]) # n*i array\n",
    "            o=sigmoid(np.dot(h, self.wi)+self.bi[1]) # n*j array\n",
    "        #Error calculation:\n",
    "            delta2_err=self.t-self.Output(x) #n*j array, each row stands for a set of j errors of j outputs,\n",
    "            delta2 = delta2_err*sigmoid_der(o) # n*j array, each row stands for j delta2, delta=(t-o)f'(x)\n",
    "    \n",
    "            delta1_err= delta2.dot(self.wi.T) #n*i array, each row stands for output errors contributed by i hidden units\n",
    "            delta1= delta1_err*sigmoid_der(h) #n*i matrix, each row stands for i delta1s, delta1=delta2*f'(x)*wk\n",
    "        #weight updating:\n",
    "            self.wi+=learning_rate*h.T.dot(delta2) #i*j matrix, wi=n*delta2*h\n",
    "            self.wk+=learning_rate*self.x.T.dot(delta1) #k*i matrix, wk=n*delta1*x\n",
    "            \n",
    "N=Neural_Network(c,d)\n",
    "N.train(c,d)\n",
    "print(N.Output(c))"
   ]
  },
  {
   "cell_type": "code",
   "execution_count": null,
   "metadata": {},
   "outputs": [],
   "source": [
    "\n"
   ]
  }
 ],
 "metadata": {
  "kernelspec": {
   "display_name": "Python 3",
   "language": "python",
   "name": "python3"
  },
  "language_info": {
   "codemirror_mode": {
    "name": "ipython",
    "version": 3
   },
   "file_extension": ".py",
   "mimetype": "text/x-python",
   "name": "python",
   "nbconvert_exporter": "python",
   "pygments_lexer": "ipython3",
   "version": "3.6.6"
  }
 },
 "nbformat": 4,
 "nbformat_minor": 2
}
