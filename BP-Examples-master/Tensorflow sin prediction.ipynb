{
 "cells": [
  {
   "cell_type": "code",
   "execution_count": 1,
   "metadata": {},
   "outputs": [],
   "source": [
    "import numpy as np\n",
    "import tensorflow as tf\n",
    "import matplotlib.pyplot as plt\n",
    "from tensorflow.contrib.learn.python.learn.estimators.estimator import SKCompat\n",
    "\n",
    "# TensorFlow的高层封装TFLearn\n",
    "learn = tf.contrib.learn\n",
    "# 神经网络参数\n",
    "Hidden_size=30\n",
    "Num_layers=2\n",
    "timesteps = 10 # 循环神经网络截断长度\n",
    "Batch_size=32\n",
    "# 数据参数\n",
    "training_steps=300\n",
    "training_examples=1000\n",
    "testing_examples=100\n",
    "sample_gap=0.1 # 采样间隔"
   ]
  },
  {
   "cell_type": "code",
   "execution_count": 2,
   "metadata": {},
   "outputs": [],
   "source": [
    "#输入data\n",
    "def generate_data(seq):\n",
    "    # 序列的第i项和后面的TIMESTEPS-1项合在一起作为输入，第i+TIMESTEPS项作为输出\n",
    "    x=[]\n",
    "    y=[]\n",
    "    for i in range(len(seq) - timesteps - 1):\n",
    "        x.append([seq[i:i+timesteps]])  # seq[1, 9]\n",
    "        y.append([seq[i+timesteps]])   #seq[10]\n",
    "    return np.array(x, dtype = np.float32), np.array(y, dtype=np.float32)"
   ]
  },
  {
   "cell_type": "code",
   "execution_count": 3,
   "metadata": {},
   "outputs": [],
   "source": [
    "# LSTM结构单元\n",
    "def LstmCell():\n",
    "    lstm_cell = tf.contrib.rnn.BasicLSTMCell(Hidden_size) #??\n",
    "    return lstm_cell\n",
    "\n",
    "def lstm_model(x,y):\n",
    "    # 使用多层LSTM，不能用lstm_cell*NUM_LAYERS的方法，会导致LSTM的tensor名字都一样，深度为Hidden_size\n",
    "    cell = tf.contrib.rnn.MultiRNNCell([LstmCell() for _ in range(Num_layers)]) \n",
    "    \n",
    "    # 将多层LSTM结构连接成RNN网络并计算前向传播结果，层数为Num_layers\n",
    "        # 训练rnn，output为输出的结果，_ 返回的是最终的状态\n",
    "    output, _ = tf.nn.dynamic_rnn(cell, x, dtype = tf.float32) \n",
    "        # 将output 重塑成 n×HIDDEN_SIZE 的矩阵，即每行属于同一层\n",
    "    output = tf.reshape(output, [-1, Hidden_size])\n",
    "    \n",
    "    # 通过无激活函数的全联接层计算线性回归，并将数据压缩成一维数组的结构\n",
    "        # 创建一个全连接层，1 表示输出的维度为1，即做的是 n×HIDDEN_SIZE 的矩阵 和 HIDDEN_SIZE×1的矩阵相乘。\n",
    "        #None指的是不使用激活函数。\n",
    "    predictions = tf.contrib.layers.fully_connected(output, 1, None)\n",
    "    \n",
    "    # 将predictions和labels调整为统一的shape\n",
    "    y = tf.reshape(y, [-1])\n",
    "    predictions = tf.reshape(predictions, [-1])\n",
    "    \n",
    "    # 得到均方损失\n",
    "    loss = tf.losses.mean_squared_error(predictions, y)\n",
    "    \n",
    "    # 创建模型优化器并得到优化步骤\n",
    "    train_op = tf.contrib.layers.optimize_loss(loss, tf.train.get_global_step(), optimizer = 'Adagrad', learning_rate = 0.1)\n",
    "    return predictions, loss, train_op"
   ]
  },
  {
   "cell_type": "code",
   "execution_count": 7,
   "metadata": {},
   "outputs": [
    {
     "name": "stdout",
     "output_type": "stream",
     "text": [
      "INFO:tensorflow:Using default config.\n",
      "INFO:tensorflow:Using config: {'_task_type': None, '_task_id': 0, '_cluster_spec': <tensorflow.python.training.server_lib.ClusterSpec object at 0x1c363560b8>, '_master': '', '_num_ps_replicas': 0, '_num_worker_replicas': 0, '_environment': 'local', '_is_chief': True, '_evaluation_master': '', '_train_distribute': None, '_device_fn': None, '_tf_config': gpu_options {\n",
      "  per_process_gpu_memory_fraction: 1.0\n",
      "}\n",
      ", '_tf_random_seed': None, '_save_summary_steps': 100, '_save_checkpoints_secs': 600, '_log_step_count_steps': 100, '_session_config': None, '_save_checkpoints_steps': None, '_keep_checkpoint_max': 5, '_keep_checkpoint_every_n_hours': 10000, '_model_dir': 'model/'}\n",
      "INFO:tensorflow:Create CheckpointSaverHook.\n",
      "INFO:tensorflow:Graph was finalized.\n",
      "INFO:tensorflow:Restoring parameters from model/model.ckpt-9600\n",
      "INFO:tensorflow:Running local_init_op.\n",
      "INFO:tensorflow:Done running local_init_op.\n",
      "INFO:tensorflow:Saving checkpoints for 9600 into model/model.ckpt.\n",
      "INFO:tensorflow:loss = 6.092347e-05, step = 9601\n",
      "INFO:tensorflow:global_step/sec: 139.964\n",
      "INFO:tensorflow:loss = 8.125451e-05, step = 9701 (0.717 sec)\n",
      "INFO:tensorflow:global_step/sec: 273.609\n",
      "INFO:tensorflow:loss = 3.285224e-05, step = 9801 (0.365 sec)\n",
      "INFO:tensorflow:Saving checkpoints for 9900 into model/model.ckpt.\n",
      "INFO:tensorflow:Loss for final step: 3.2181804e-05.\n",
      "INFO:tensorflow:Graph was finalized.\n",
      "INFO:tensorflow:Restoring parameters from model/model.ckpt-9900\n",
      "INFO:tensorflow:Running local_init_op.\n",
      "INFO:tensorflow:Done running local_init_op.\n",
      "Mean Square Error is: 0.069601\n"
     ]
    },
    {
     "name": "stderr",
     "output_type": "stream",
     "text": [
      "/anaconda3/lib/python3.6/site-packages/matplotlib/legend.py:798: UserWarning: Legend does not support [<matplotlib.lines.Line2D object at 0x1c36358f98>] instances.\n",
      "A proxy artist may be used instead.\n",
      "See: http://matplotlib.org/users/legend_guide.html#creating-artists-specifically-for-adding-to-the-legend-aka-proxy-artists\n",
      "  \"aka-proxy-artists\".format(orig_handle)\n",
      "/anaconda3/lib/python3.6/site-packages/matplotlib/legend.py:798: UserWarning: Legend does not support [<matplotlib.lines.Line2D object at 0x1c358baef0>] instances.\n",
      "A proxy artist may be used instead.\n",
      "See: http://matplotlib.org/users/legend_guide.html#creating-artists-specifically-for-adding-to-the-legend-aka-proxy-artists\n",
      "  \"aka-proxy-artists\".format(orig_handle)\n"
     ]
    },
    {
     "data": {
      "image/png": "[encoded data removed]",
      "text/plain": [
       "<Figure size 432x288 with 1 Axes>"
      ]
     },
     "metadata": {
      "needs_background": "light"
     },
     "output_type": "display_data"
    }
   ],
   "source": [
    "#生成sin 训练和测试数据集\n",
    "test_start = training_examples*sample_gap # = 1000*0.1 = 100\n",
    "test_end = (training_examples+testing_examples)*sample_gap # = 1100*0.1 = 110\n",
    "train_x, train_y = generate_data(np.sin(np.linspace(0, test_start, training_examples, dtype = np.float32))) # linspace得到对应区间上的离散点\n",
    "test_x, test_y = generate_data(np.sin(np.linspace(test_start, test_end, training_examples, dtype = np.float32)))\n",
    "\n",
    "# 建立深层循环网络模型\n",
    "regressor = SKCompat(learn.Estimator(model_fn = lstm_model, model_dir = 'model/'))\n",
    "# 调用fit函数训练模型\n",
    "regressor.fit(train_x, train_y, batch_size = Batch_size, steps = training_steps)\n",
    "\n",
    "# 使用训练好的模型对测试集进行预测\n",
    "predicted = [[pred] for pred in regressor.predict(test_x)]\n",
    "\n",
    "# 计算rmse作为评价指标\n",
    "rmse = np.sqrt(((predicted - test_y)**2).mean(axis=0))\n",
    "print('Mean Square Error is: %f' % (rmse[0]))\n",
    "\n",
    "fig = plt.figure()\n",
    "plot_predicted = plt.plot(predicted, label = 'predicted')\n",
    "plot_test = plt.plot(test_y, label = 'real_sin')\n",
    "plt.legend([plot_predicted, plot_test], ['predicted', 'real sin'])\n",
    "plt.show\n",
    "fig.savefig('sin.png')"
   ]
  },
  {
   "cell_type": "code",
   "execution_count": null,
   "metadata": {},
   "outputs": [],
   "source": []
  }
 ],
 "metadata": {
  "kernelspec": {
   "display_name": "Python 3",
   "language": "python",
   "name": "python3"
  },
  "language_info": {
   "codemirror_mode": {
    "name": "ipython",
    "version": 3
   },
   "file_extension": ".py",
   "mimetype": "text/x-python",
   "name": "python",
   "nbconvert_exporter": "python",
   "pygments_lexer": "ipython3",
   "version": "3.6.6"
  }
 },
 "nbformat": 4,
 "nbformat_minor": 2
}
