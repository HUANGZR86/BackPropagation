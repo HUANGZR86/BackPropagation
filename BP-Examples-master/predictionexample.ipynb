{
 "cells": [
  {
   "cell_type": "code",
   "execution_count": 1,
   "metadata": {},
   "outputs": [
    {
     "name": "stdout",
     "output_type": "stream",
     "text": [
      "[3 9]\n"
     ]
    }
   ],
   "source": [
    "import numpy as np\n",
    "\n",
    "x=np.array(([2,9], [1,5], [3,6]))\n",
    "y=np.array(([92], [86], [89]))\n",
    "xpredicted = np.array(([4,8]), dtype = float)\n",
    "\n",
    "print(np.amax(x,axis = 0))\n",
    "\n",
    "#Normailization\n",
    "x=x/np.amax(x, axis = 0)\n",
    "y = y/100\n",
    "xpredicted = xpredicted/np.amax(xpredicted, axis = 0)"
   ]
  },
  {
   "cell_type": "code",
   "execution_count": 5,
   "metadata": {},
   "outputs": [],
   "source": [
    "class Neural_Network():\n",
    "    def __init__(self):\n",
    "        self.inputsize = 2\n",
    "        self.hiddensize = 3\n",
    "        self.outputsize = 1\n",
    "        self.W1 = np.random.randn(self.inputsize, self.hiddensize)\n",
    "        self.W2 = np.random.randn(self.hiddensize, self.outputsize)\n",
    "        \n",
    "    def forward(self, X):\n",
    "        self.z1 = np.dot(X, self.W1)\n",
    "        self.z2 = self.sigmoid(self.z1)\n",
    "        self.z3 = np.dot(self.z2, self.W2)\n",
    "        o = self.sigmoid(self.z3)\n",
    "        return o\n",
    "\n",
    "    def sigmoid(self, s):\n",
    "        return 1/(1+np.exp(-s))\n",
    "    def sigmoidPrime(self, s):\n",
    "        return s*(1-s)\n",
    "    def backward(self,  x, y, o):\n",
    "        self.o_err =y-o\n",
    "        self.o_delta = self.o_err*self.sigmoidPrime(o)\n",
    "        \n",
    "        self.z2_err = self.o_delta.dot(self.W2.T)\n",
    "        self.z2_delta = self.z2_err*self.sigmoidPrime(self.z2)\n",
    "        \n",
    "        self.W1+=x.T.dot(self.z2_delta)\n",
    "        self.W2+=self.z2.T.dot(self.o_delta)\n",
    "    \n",
    "    def train(self, x, y):\n",
    "        o = self.forward(x)\n",
    "        self.backward(x, y, o)\n",
    "    \n",
    "    def predict(self):\n",
    "        print(\"predicted data based on trained weights:\")\n",
    "        print(\"input:\\n\"+str(xpredicted))\n",
    "        print(\"output:\\n\"+str(self.forward(xpredicted)))\n",
    "    \n",
    "    def saveweights(self):\n",
    "        np.savetxt(\"W1.txt\", self.W1, fmt=\"%s\")\n",
    "        np.savetxt(\"W2.txt\", self.W2, fmt=\"%s\")"
   ]
  },
  {
   "cell_type": "code",
   "execution_count": 10,
   "metadata": {
    "scrolled": true
   },
   "outputs": [
    {
     "name": "stdout",
     "output_type": "stream",
     "text": [
      "Input: \n",
      "[[0.66666667 1.        ]\n",
      " [0.33333333 0.55555556]\n",
      " [1.         0.66666667]]\n",
      "Actual Output: \n",
      "[[0.92]\n",
      " [0.86]\n",
      " [0.89]]\n",
      "Predicted Output: \n",
      "[[0.90840669]\n",
      " [0.86614846]\n",
      " [0.89366694]]\n",
      "Loss: \n",
      "6.188496471190746e-05\n",
      "\n",
      "\n"
     ]
    }
   ],
   "source": [
    "NN = Neural_Network()\n",
    "for i in range(1000): # trains the NN 1,000 times\n",
    "  NN.train(x, y)\n",
    "loss = np.mean(np.square(y - NN.forward(x)))\n",
    "\n",
    "print(\"Input: \\n\" + str(x))\n",
    "print(\"Actual Output: \\n\" + str(y))\n",
    "print (\"Predicted Output: \\n\" + str(NN.forward(x)))\n",
    "print (\"Loss: \\n\" + str(loss) )# mean sum squared loss\n",
    "print (\"\\n\")"
   ]
  },
  {
   "cell_type": "code",
   "execution_count": 7,
   "metadata": {
    "scrolled": true
   },
   "outputs": [
    {
     "name": "stdout",
     "output_type": "stream",
     "text": [
      "predicted data based on trained weights:\n",
      "input:\n",
      "[0.5 1. ]\n",
      "output:\n",
      "[0.90251216]\n"
     ]
    }
   ],
   "source": [
    "NN.predict()\n",
    "NN.saveweights()"
   ]
  },
  {
   "cell_type": "code",
   "execution_count": null,
   "metadata": {},
   "outputs": [],
   "source": []
  }
 ],
 "metadata": {
  "kernelspec": {
   "display_name": "Python 3",
   "language": "python",
   "name": "python3"
  },
  "language_info": {
   "codemirror_mode": {
    "name": "ipython",
    "version": 3
   },
   "file_extension": ".py",
   "mimetype": "text/x-python",
   "name": "python",
   "nbconvert_exporter": "python",
   "pygments_lexer": "ipython3",
   "version": "3.6.6"
  }
 },
 "nbformat": 4,
 "nbformat_minor": 2
}
